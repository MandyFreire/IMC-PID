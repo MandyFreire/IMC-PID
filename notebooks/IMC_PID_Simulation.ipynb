import numpy as np
import matplotlib.pyplot as plt
from scipy.optimize import minimize
from scipy.integrate import odeint

# Função para simular a resposta do processo de 1ª ordem com tempo morto
def process_model(y, t, u, Kp, tau, theta):
    dydt = (-(y - u) + Kp * u) / tau
    if t < theta:
        dydt = 0
    return dydt

# Parâmetros do sistema
Kp_process = 2.5
tau_process = 50.0
theta_process = 10.0

# Tempo de simulação
t = np.linspace(0, 200, 1000)
u = np.ones_like(t)

# Parâmetros PID clássico
Kc_pid = 3.0
Ti_pid = 40.0
Td_pid = 8.0

# Parâmetros IMC-PID
lambda_imc = 10.0
Kc_imc = tau_process / (Kp_process * (lambda_imc + theta_process))
Ti_imc = tau_process
Td_imc = (theta_process * tau_process) / (2 * lambda_imc + theta_process)

# Função para simulação de controle PID
def pid_control(Kc, Ti, Td, setpoint, initial_value):
    y_pid = np.zeros(len(t))
    e_previous = 0
    integral = 0

    for i in range(1, len(t)):
        e = setpoint - initial_value
        integral += e * (t[i] - t[i-1])
        derivative = (e - e_previous) / (t[i] - t[i-1])
        y_pid[i] = Kc * (e + (1.0/Ti) * integral + Td * derivative)
        e_previous = e

    return y_pid

# Simulação
y_pid_simulation = pid_control(Kc_pid, Ti_pid, Td_pid, 1.0, 0.0)
y_imc_pid_simulation = pid_control(Kc_imc, Ti_imc, Td_imc, 1.0, 0.0)

# Gráfico de comparação
plt.figure(figsize=(12, 6))
plt.plot(t, y_pid_simulation, label='PID Clássico', color='blue')
plt.plot(t, y_imc_pid_simulation, label='IMC-PID', color='green')
plt.xlabel('Tempo')
plt.ylabel('Resposta do Sistema')
plt.title('Comparação: PID Clássico vs IMC-PID')
plt.legend()
plt.grid(True)
plt.show()
